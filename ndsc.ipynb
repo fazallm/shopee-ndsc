{
  "nbformat": 4,
  "nbformat_minor": 0,
  "metadata": {
    "colab": {
      "name": "ndsc.ipynb",
      "version": "0.3.2",
      "provenance": [],
      "collapsed_sections": [],
      "include_colab_link": true
    },
    "kernelspec": {
      "name": "python3",
      "display_name": "Python 3"
    }
  },
  "cells": [
    {
      "cell_type": "markdown",
      "metadata": {
        "id": "view-in-github",
        "colab_type": "text"
      },
      "source": [
        "<a href=\"https://colab.research.google.com/github/fazallm/shopee-ndsc/blob/master/ndsc.ipynb\" target=\"_parent\"><img src=\"https://colab.research.google.com/assets/colab-badge.svg\" alt=\"Open In Colab\"/></a>"
      ]
    },
    {
      "metadata": {
        "id": "lTcVz8rdZv-F",
        "colab_type": "code",
        "colab": {}
      },
      "cell_type": "code",
      "source": [
        "import pandas as pd\n",
        "!pip install -U -q PyDrive\n",
        "from pydrive.auth import GoogleAuth\n",
        "from pydrive.drive import GoogleDrive\n",
        "from google.colab import auth\n",
        "from oauth2client.client import GoogleCredentials\n",
        "# Authenticate and create the PyDrive client.\n",
        "auth.authenticate_user()\n",
        "gauth = GoogleAuth()\n",
        "gauth.credentials = GoogleCredentials.get_application_default()\n",
        "drive = GoogleDrive(gauth)"
      ],
      "execution_count": 0,
      "outputs": []
    },
    {
      "metadata": {
        "id": "pOQnJn4HiI1z",
        "colab_type": "code",
        "colab": {}
      },
      "cell_type": "code",
      "source": [
        "link1 ='https://drive.google.com/open?id=1AAKixj0o6DL24zObdHuFDSayLrQRmBNR'"
      ],
      "execution_count": 0,
      "outputs": []
    },
    {
      "metadata": {
        "id": "ht-1DhpAw-gr",
        "colab_type": "code",
        "outputId": "9caa13e4-0461-494b-dc14-ff4f4163d1f9",
        "colab": {
          "base_uri": "https://localhost:8080/",
          "height": 34
        }
      },
      "cell_type": "code",
      "source": [
        "fluff, id = link1.split('=')\n",
        "print (id)"
      ],
      "execution_count": 0,
      "outputs": [
        {
          "output_type": "stream",
          "text": [
            "1AAKixj0o6DL24zObdHuFDSayLrQRmBNR\n"
          ],
          "name": "stdout"
        }
      ]
    },
    {
      "metadata": {
        "id": "54OFgUomxEAs",
        "colab_type": "code",
        "colab": {}
      },
      "cell_type": "code",
      "source": [
        "downloaded1 = drive.CreateFile({'id':id}) \n",
        "downloaded1.GetContentFile('train.csv')  \n",
        "df1 = pd.read_csv('train.csv')"
      ],
      "execution_count": 0,
      "outputs": []
    },
    {
      "metadata": {
        "id": "HtQAl3AjxTwW",
        "colab_type": "code",
        "outputId": "d56f8ab8-3585-469f-aaa9-6a24f6482dd7",
        "colab": {
          "base_uri": "https://localhost:8080/",
          "height": 195
        }
      },
      "cell_type": "code",
      "source": [
        "df1.head()"
      ],
      "execution_count": 0,
      "outputs": [
        {
          "output_type": "execute_result",
          "data": {
            "text/html": [
              "<div>\n",
              "<style scoped>\n",
              "    .dataframe tbody tr th:only-of-type {\n",
              "        vertical-align: middle;\n",
              "    }\n",
              "\n",
              "    .dataframe tbody tr th {\n",
              "        vertical-align: top;\n",
              "    }\n",
              "\n",
              "    .dataframe thead th {\n",
              "        text-align: right;\n",
              "    }\n",
              "</style>\n",
              "<table border=\"1\" class=\"dataframe\">\n",
              "  <thead>\n",
              "    <tr style=\"text-align: right;\">\n",
              "      <th></th>\n",
              "      <th>itemid</th>\n",
              "      <th>title</th>\n",
              "      <th>Category</th>\n",
              "      <th>image_path</th>\n",
              "    </tr>\n",
              "  </thead>\n",
              "  <tbody>\n",
              "    <tr>\n",
              "      <th>0</th>\n",
              "      <td>307504</td>\n",
              "      <td>nyx sex bomb pallete natural palette</td>\n",
              "      <td>0</td>\n",
              "      <td>beauty_image/6b2e9cbb279ac95703348368aa65da09.jpg</td>\n",
              "    </tr>\n",
              "    <tr>\n",
              "      <th>1</th>\n",
              "      <td>461203</td>\n",
              "      <td>etude house precious mineral any cushion pearl...</td>\n",
              "      <td>1</td>\n",
              "      <td>beauty_image/20450222d857c9571ba8fa23bdedc8c9.jpg</td>\n",
              "    </tr>\n",
              "    <tr>\n",
              "      <th>2</th>\n",
              "      <td>3592295</td>\n",
              "      <td>milani rose powder blush</td>\n",
              "      <td>2</td>\n",
              "      <td>beauty_image/6a5962bed605a3dd6604ca3a4278a4f9.jpg</td>\n",
              "    </tr>\n",
              "    <tr>\n",
              "      <th>3</th>\n",
              "      <td>4460167</td>\n",
              "      <td>etude house baby sweet sugar powder</td>\n",
              "      <td>3</td>\n",
              "      <td>beauty_image/56987ae186e8a8e71fcc5a261ca485da.jpg</td>\n",
              "    </tr>\n",
              "    <tr>\n",
              "      <th>4</th>\n",
              "      <td>5853995</td>\n",
              "      <td>bedak revlon color stay aqua mineral make up</td>\n",
              "      <td>3</td>\n",
              "      <td>beauty_image/9c6968066ebab57588c2f757a240d8b9.jpg</td>\n",
              "    </tr>\n",
              "  </tbody>\n",
              "</table>\n",
              "</div>"
            ],
            "text/plain": [
              "    itemid                                              title  Category  \\\n",
              "0   307504               nyx sex bomb pallete natural palette         0   \n",
              "1   461203  etude house precious mineral any cushion pearl...         1   \n",
              "2  3592295                           milani rose powder blush         2   \n",
              "3  4460167                etude house baby sweet sugar powder         3   \n",
              "4  5853995       bedak revlon color stay aqua mineral make up         3   \n",
              "\n",
              "                                          image_path  \n",
              "0  beauty_image/6b2e9cbb279ac95703348368aa65da09.jpg  \n",
              "1  beauty_image/20450222d857c9571ba8fa23bdedc8c9.jpg  \n",
              "2  beauty_image/6a5962bed605a3dd6604ca3a4278a4f9.jpg  \n",
              "3  beauty_image/56987ae186e8a8e71fcc5a261ca485da.jpg  \n",
              "4  beauty_image/9c6968066ebab57588c2f757a240d8b9.jpg  "
            ]
          },
          "metadata": {
            "tags": []
          },
          "execution_count": 12
        }
      ]
    },
    {
      "metadata": {
        "id": "uJmDMuCzxf_a",
        "colab_type": "code",
        "colab": {}
      },
      "cell_type": "code",
      "source": [
        "link2='https://drive.google.com/open?id=1IlxOxmLaKaDKkIbdF7Mijk5v15x2TeMZ'\n",
        "fluff,id2= link2.split('=')\n",
        "downloaded2 = drive.CreateFile({'id': id2})\n",
        "downloaded2.GetContentFile('test.csv')\n",
        "df2=pd.read_csv('test.csv')"
      ],
      "execution_count": 0,
      "outputs": []
    },
    {
      "metadata": {
        "id": "XEPL94lXyKDF",
        "colab_type": "code",
        "colab": {}
      },
      "cell_type": "code",
      "source": [
        "def extract(link, filename):\n",
        "  fluff,id= link.split('=')\n",
        "  downloaded = drive.CreateFile({'id': id})\n",
        "  downloaded.GetContentFile(filename)\n",
        "  df=pd.read_csv(filename)\n",
        "  return df"
      ],
      "execution_count": 0,
      "outputs": []
    },
    {
      "metadata": {
        "id": "2NiTl8HDy0JL",
        "colab_type": "code",
        "colab": {}
      },
      "cell_type": "code",
      "source": [
        "title=df1['title'].tolist()\n",
        "category=df1['Category'].tolist()\n",
        "tes=df2['title'].tolist()"
      ],
      "execution_count": 0,
      "outputs": []
    },
    {
      "metadata": {
        "id": "9Xt_TQ1izGXQ",
        "colab_type": "code",
        "colab": {}
      },
      "cell_type": "code",
      "source": [
        "tet=[]\n",
        "for i in title:\n",
        "    tet.append(i)\n",
        "for i in tes:\n",
        "    tet.append(i)"
      ],
      "execution_count": 0,
      "outputs": []
    },
    {
      "metadata": {
        "id": "fPh9SFRezObT",
        "colab_type": "code",
        "colab": {}
      },
      "cell_type": "code",
      "source": [
        "from sklearn.feature_extraction.text import TfidfVectorizer\n",
        "vector=TfidfVectorizer(analyzer = \"word\",   \\\n",
        "                             tokenizer = None,    \\\n",
        "                             preprocessor = None, \\\n",
        "                             stop_words = None)\n",
        "all_title=vector.fit_transform(tet)"
      ],
      "execution_count": 0,
      "outputs": []
    },
    {
      "metadata": {
        "id": "9DNoNZoMzVGI",
        "colab_type": "code",
        "colab": {}
      },
      "cell_type": "code",
      "source": [
        "train_title=all_title[0:len(category)]\n",
        "tests_title=all_title[len(category):]"
      ],
      "execution_count": 0,
      "outputs": []
    },
    {
      "metadata": {
        "id": "mEVbwZA8zjPp",
        "colab_type": "code",
        "colab": {}
      },
      "cell_type": "code",
      "source": [
        "from sklearn.model_selection import train_test_split\n",
        "X_train, X_test, y_train, y_test = train_test_split(train_title, category, test_size=0.25, random_state=40)"
      ],
      "execution_count": 0,
      "outputs": []
    },
    {
      "metadata": {
        "id": "f31MulZbzne8",
        "colab_type": "code",
        "outputId": "1b55ed1b-725e-491b-f27f-ef4d3f454d3a",
        "colab": {
          "base_uri": "https://localhost:8080/",
          "height": 423
        }
      },
      "cell_type": "code",
      "source": [
        "from sklearn.linear_model import LogisticRegression\n",
        "from sklearn.model_selection import GridSearchCV\n",
        "parameters = {'solver':('newton-cg', 'lbfgs', 'sag')}\n",
        "logs=LogisticRegression(random_state=20, multi_class='multinomial')\n",
        "log_reg=GridSearchCV(logs, parameters, cv=5)\n",
        "log_reg.fit(X_train, y_train)"
      ],
      "execution_count": 0,
      "outputs": [
        {
          "output_type": "stream",
          "text": [
            "/usr/local/lib/python3.6/dist-packages/scipy/optimize/linesearch.py:313: LineSearchWarning: The line search algorithm did not converge\n",
            "  warn('The line search algorithm did not converge', LineSearchWarning)\n",
            "/usr/local/lib/python3.6/dist-packages/sklearn/utils/optimize.py:195: UserWarning: Line Search failed\n",
            "  warnings.warn('Line Search failed')\n",
            "/usr/local/lib/python3.6/dist-packages/sklearn/linear_model/logistic.py:758: ConvergenceWarning: lbfgs failed to converge. Increase the number of iterations.\n",
            "  \"of iterations.\", ConvergenceWarning)\n",
            "/usr/local/lib/python3.6/dist-packages/sklearn/linear_model/logistic.py:758: ConvergenceWarning: lbfgs failed to converge. Increase the number of iterations.\n",
            "  \"of iterations.\", ConvergenceWarning)\n",
            "/usr/local/lib/python3.6/dist-packages/sklearn/linear_model/logistic.py:758: ConvergenceWarning: lbfgs failed to converge. Increase the number of iterations.\n",
            "  \"of iterations.\", ConvergenceWarning)\n",
            "/usr/local/lib/python3.6/dist-packages/sklearn/linear_model/logistic.py:758: ConvergenceWarning: lbfgs failed to converge. Increase the number of iterations.\n",
            "  \"of iterations.\", ConvergenceWarning)\n",
            "/usr/local/lib/python3.6/dist-packages/sklearn/linear_model/logistic.py:758: ConvergenceWarning: lbfgs failed to converge. Increase the number of iterations.\n",
            "  \"of iterations.\", ConvergenceWarning)\n"
          ],
          "name": "stderr"
        },
        {
          "output_type": "execute_result",
          "data": {
            "text/plain": [
              "GridSearchCV(cv=5, error_score='raise-deprecating',\n",
              "       estimator=LogisticRegression(C=1.0, class_weight=None, dual=False, fit_intercept=True,\n",
              "          intercept_scaling=1, max_iter=100, multi_class='multinomial',\n",
              "          n_jobs=None, penalty='l2', random_state=20, solver='warn',\n",
              "          tol=0.0001, verbose=0, warm_start=False),\n",
              "       fit_params=None, iid='warn', n_jobs=None,\n",
              "       param_grid={'solver': ('newton-cg', 'lbfgs', 'sag')},\n",
              "       pre_dispatch='2*n_jobs', refit=True, return_train_score='warn',\n",
              "       scoring=None, verbose=0)"
            ]
          },
          "metadata": {
            "tags": []
          },
          "execution_count": 21
        }
      ]
    },
    {
      "metadata": {
        "id": "1y7fnySMzyQa",
        "colab_type": "code",
        "outputId": "54dc15cb-e164-4535-b74b-49364d492756",
        "colab": {
          "base_uri": "https://localhost:8080/",
          "height": 34
        }
      },
      "cell_type": "code",
      "source": [
        "y_pred=log_reg.predict(X_test)\n",
        "from sklearn.metrics import accuracy_score\n",
        "print ('testing acc is %f' %accuracy_score(y_pred, y_test))"
      ],
      "execution_count": 0,
      "outputs": [
        {
          "output_type": "stream",
          "text": [
            "testing acc is 0.717655\n"
          ],
          "name": "stdout"
        }
      ]
    },
    {
      "metadata": {
        "id": "oWjebX19fyCS",
        "colab_type": "code",
        "colab": {}
      },
      "cell_type": "code",
      "source": [
        "pred=log_reg.predict(tests_title)"
      ],
      "execution_count": 0,
      "outputs": []
    },
    {
      "metadata": {
        "id": "vcAKp94igh-c",
        "colab_type": "code",
        "colab": {}
      },
      "cell_type": "code",
      "source": [
        "subm=extract('https://drive.google.com/open?id=1rvNIHhGKHSxemOxg5IJcW7LEJKwaFEX5', 'data_info_val_sample_submission.csv')"
      ],
      "execution_count": 0,
      "outputs": []
    },
    {
      "metadata": {
        "id": "1tjYaBRrgZFM",
        "colab_type": "code",
        "colab": {}
      },
      "cell_type": "code",
      "source": [
        "subm['Category']=pred\n",
        "subm.to_csv('Submission_naive bayes.csv', index=False)"
      ],
      "execution_count": 0,
      "outputs": []
    },
    {
      "metadata": {
        "id": "kD2FS6FigfIb",
        "colab_type": "code",
        "colab": {}
      },
      "cell_type": "code",
      "source": [
        ""
      ],
      "execution_count": 0,
      "outputs": []
    }
  ]
}